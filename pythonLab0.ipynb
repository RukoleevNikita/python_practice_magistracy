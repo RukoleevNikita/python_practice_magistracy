{
 "metadata": {
  "language_info": {
   "codemirror_mode": {
    "name": "ipython",
    "version": 3
   },
   "file_extension": ".py",
   "mimetype": "text/x-python",
   "name": "python",
   "nbconvert_exporter": "python",
   "pygments_lexer": "ipython3",
   "version": "3.8.5-final"
  },
  "orig_nbformat": 2,
  "kernelspec": {
   "name": "Python 3.8.5 32-bit",
   "display_name": "Python 3.8.5 32-bit",
   "metadata": {
    "interpreter": {
     "hash": "f0cdc4910d9deca7a9de00566e555a3d4346f2a62c848a4400c41f68aafe997e"
    }
   }
  }
 },
 "nbformat": 4,
 "nbformat_minor": 2,
 "cells": [
  {
   "cell_type": "code",
   "execution_count": 1,
   "metadata": {
    "tags": []
   },
   "outputs": [
    {
     "output_type": "stream",
     "name": "stdout",
     "text": "hello world\n"
    }
   ],
   "source": [
    "#4\n",
    "str = 'hello world'\n",
    "print(str)"
   ]
  },
  {
   "cell_type": "code",
   "execution_count": 2,
   "metadata": {},
   "outputs": [
    {
     "output_type": "error",
     "ename": "TypeError",
     "evalue": "can only concatenate str (not \"int\") to str",
     "traceback": [
      "\u001b[1;31m---------------------------------------------------------------------------\u001b[0m",
      "\u001b[1;31mTypeError\u001b[0m                                 Traceback (most recent call last)",
      "\u001b[1;32m<ipython-input-2-2f1b51f44853>\u001b[0m in \u001b[0;36m<module>\u001b[1;34m\u001b[0m\n\u001b[0;32m      2\u001b[0m \u001b[0mstr\u001b[0m \u001b[1;33m=\u001b[0m \u001b[0minput\u001b[0m\u001b[1;33m(\u001b[0m\u001b[1;33m)\u001b[0m\u001b[1;33m\u001b[0m\u001b[1;33m\u001b[0m\u001b[0m\n\u001b[0;32m      3\u001b[0m \u001b[0mnum\u001b[0m \u001b[1;33m=\u001b[0m \u001b[1;36m1029\u001b[0m\u001b[1;33m\u001b[0m\u001b[1;33m\u001b[0m\u001b[0m\n\u001b[1;32m----> 4\u001b[1;33m \u001b[0mresult\u001b[0m \u001b[1;33m=\u001b[0m \u001b[0mstr\u001b[0m \u001b[1;33m+\u001b[0m \u001b[0mnum\u001b[0m\u001b[1;33m\u001b[0m\u001b[1;33m\u001b[0m\u001b[0m\n\u001b[0m\u001b[0;32m      5\u001b[0m \u001b[0mprint\u001b[0m\u001b[1;33m(\u001b[0m\u001b[0mresult\u001b[0m\u001b[1;33m)\u001b[0m\u001b[1;33m\u001b[0m\u001b[1;33m\u001b[0m\u001b[0m\n",
      "\u001b[1;31mTypeError\u001b[0m: can only concatenate str (not \"int\") to str"
     ]
    }
   ],
   "source": [
    "#5\n",
    "str = input()\n",
    "num = 1029\n",
    "result = str + num\n",
    "print(result)"
   ]
  },
  {
   "cell_type": "code",
   "execution_count": 2,
   "metadata": {
    "tags": []
   },
   "outputs": [
    {
     "output_type": "stream",
     "name": "stdout",
     "text": "Иначе\n"
    }
   ],
   "source": [
    "#5\n",
    "str1 = 'asdqweasd'\n",
    "str2 = 'asdqwasdeasd'\n",
    "if len(str1) > len(str2):\n",
    "    print('Если')\n",
    "elif len(str1) == len(str2):\n",
    "    print('Иначе если')\n",
    "else:\n",
    "    print('Иначе')"
   ]
  },
  {
   "cell_type": "code",
   "execution_count": 1,
   "metadata": {
    "tags": []
   },
   "outputs": [
    {
     "output_type": "stream",
     "name": "stdout",
     "text": "werty werty werty"
    }
   ],
   "source": [
    "#6 - 7\n",
    "i = 5\n",
    "while i < 15:\n",
    "    # print(i)\n",
    "    i *= 2\n",
    "\n",
    "    #пример работы цикла \n",
    "# arr = ['asd', 'dsa', 123, 321]\n",
    "# for i in arr:\n",
    "#     # print(i)\n",
    "\n",
    "#пример работы цикла \n",
    "for i in 'qwerty qwerty qwerty':\n",
    "    if i == 'q':\n",
    "        continue\n",
    "    print(i, end = '')"
   ]
  },
  {
   "cell_type": "code",
   "execution_count": null,
   "metadata": {},
   "outputs": [],
   "source": [
    "#8 \n",
    "# False - ложь.\n",
    "# True - правда.\n",
    "# None - \"пустой\" объект.\n",
    "# and - логическое И.\n",
    "# with / as - менеджер контекста.\n",
    "# assert условие - возбуждает исключение, если условие ложно.\n",
    "# break - выход из цикла.\n",
    "# class - пользовательский тип, состоящий из методов и атрибутов.\n",
    "# continue - переход на следующую итерацию цикла.\n",
    "# def - определение функции.\n",
    "# del - удаление объекта.\n",
    "# elif - в противном случае, если.\n",
    "# else - см. for/else или if/else.\n",
    "# except - перехватить исключение.\n",
    "# finally - вкупе с инструкцией try, выполняет инструкции независимо от того, было ли исключение или нет.\n",
    "# for - цикл for.\n",
    "# from - импорт нескольких функций из модуля.\n",
    "# global - позволяет сделать значение переменной, присвоенное ей внутри функции, доступным и за пределами этой функции.\n",
    "# if - если.\n",
    "# import - импорт модуля.\n",
    "# in - проверка на вхождение.\n",
    "# is - ссылаются ли 2 объекта на одно и то же место в памяти.\n",
    "# lambda - определение анонимной функции.\n",
    "# nonlocal - позволяет сделать значение переменной, присвоенное ей внутри функции, доступным в объемлющей инструкции.\n",
    "# not - логическое НЕ.\n",
    "# or - логическое ИЛИ.\n",
    "# pass - ничего не делающая конструкция.\n",
    "# raise - возбудить исключение.\n",
    "# return - вернуть результат.\n",
    "# try - выполнить инструкции, перехватывая исключения.\n",
    "# while - цикл while.\n",
    "# yield - определение функции-генератора."
   ]
  },
  {
   "cell_type": "code",
   "execution_count": 8,
   "metadata": {
    "tags": []
   },
   "outputs": [
    {
     "output_type": "stream",
     "name": "stdout",
     "text": "0b10\n"
    }
   ],
   "source": [
    "#9\n",
    "num = int(input())\n",
    "# print(pow(num, num))\n",
    "# print(3 ** 15)\n",
    "# print(oct(num))\n",
    "print(bin(num))"
   ]
  },
  {
   "cell_type": "code",
   "execution_count": 9,
   "metadata": {
    "tags": []
   },
   "outputs": [
    {
     "output_type": "stream",
     "name": "stdout",
     "text": "NIKITA\n"
    }
   ],
   "source": [
    "#10\n",
    "name = input('Enter your name')\n",
    "# print('Hello', name)\n",
    "# num = 2 + 7\n",
    "# string = '2 + 7 = '\n",
    "# print(string + str(num))\n",
    "# print(num + 1)\n",
    "# name = str(input())\n",
    "# print('Hello, ', name, '!', sep='')\n",
    "print(name.upper())"
   ]
  },
  {
   "cell_type": "code",
   "execution_count": 27,
   "metadata": {
    "tags": []
   },
   "outputs": [
    {
     "output_type": "error",
     "ename": "TypeError",
     "evalue": "&#39;NoneType&#39; object is not iterable",
     "traceback": [
      "\u001b[1;31m---------------------------------------------------------------------------\u001b[0m",
      "\u001b[1;31mTypeError\u001b[0m                                 Traceback (most recent call last)",
      "\u001b[1;32m&lt;ipython-input-27-bfde824f2751&gt;\u001b[0m in \u001b[0;36m&lt;module&gt;\u001b[1;34m\u001b[0m\n\u001b[0;32m      2\u001b[0m \u001b[0mstring\u001b[0m \u001b[1;33m=\u001b[0m \u001b[0minput\u001b[0m\u001b[1;33m(\u001b[0m\u001b[1;34m&#39;введите строку&#39;\u001b[0m\u001b[1;33m)\u001b[0m\u001b[1;33m\u001b[0m\u001b[1;33m\u001b[0m\u001b[0m\n\u001b[0;32m      3\u001b[0m \u001b[0mtmp\u001b[0m \u001b[1;33m=\u001b[0m \u001b[0mlist\u001b[0m\u001b[1;33m(\u001b[0m\u001b[0mstring\u001b[0m\u001b[1;33m)\u001b[0m\u001b[1;33m\u001b[0m\u001b[1;33m\u001b[0m\u001b[0m\n\u001b[1;32m----&gt; 4\u001b[1;33m \u001b[1;32mfor\u001b[0m \u001b[0mi\u001b[0m \u001b[1;32min\u001b[0m \u001b[0mtmp\u001b[0m\u001b[1;33m.\u001b[0m\u001b[0mreverse\u001b[0m\u001b[1;33m(\u001b[0m\u001b[1;33m)\u001b[0m\u001b[1;33m:\u001b[0m\u001b[1;33m\u001b[0m\u001b[1;33m\u001b[0m\u001b[0m\n\u001b[0m\u001b[0;32m      5\u001b[0m     \u001b[0mprint\u001b[0m\u001b[1;33m(\u001b[0m\u001b[0mtmp\u001b[0m\u001b[1;33m)\u001b[0m\u001b[1;33m\u001b[0m\u001b[1;33m\u001b[0m\u001b[0m\n",
      "\u001b[1;31mTypeError\u001b[0m: &#39;NoneType&#39; object is not iterable"
     ]
    }
   ],
   "source": [
    "  #11\n",
    "#   string = input('введите строку')  \n",
    "#   tmp = list(string)\n",
    "#   for i in tmp.reverse(): \n",
    "#       print(tmp)"
   ]
  },
  {
   "cell_type": "code",
   "execution_count": null,
   "metadata": {},
   "outputs": [],
   "source": []
  }
 ]
}